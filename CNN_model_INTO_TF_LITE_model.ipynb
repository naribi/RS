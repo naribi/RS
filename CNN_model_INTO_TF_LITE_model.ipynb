{
  "metadata": {
    "kernelspec": {
      "language": "python",
      "display_name": "Python 3",
      "name": "python3"
    },
    "language_info": {
      "name": "python",
      "version": "3.7.10",
      "mimetype": "text/x-python",
      "codemirror_mode": {
        "name": "ipython",
        "version": 3
      },
      "pygments_lexer": "ipython3",
      "nbconvert_exporter": "python",
      "file_extension": ".py"
    },
    "kaggle": {
      "accelerator": "gpu",
      "dataSources": [
        {
          "sourceId": 1105687,
          "sourceType": "datasetVersion",
          "datasetId": 619181
        }
      ],
      "dockerImageVersionId": 30120,
      "isInternetEnabled": false,
      "language": "python",
      "sourceType": "notebook",
      "isGpuEnabled": true
    },
    "colab": {
      "name": "CNN model INTO TF LITE model",
      "provenance": [],
      "include_colab_link": true
    }
  },
  "nbformat_minor": 0,
  "nbformat": 4,
  "cells": [
    {
      "cell_type": "markdown",
      "metadata": {
        "id": "view-in-github",
        "colab_type": "text"
      },
      "source": [
        "<a href=\"https://colab.research.google.com/github/naribi/RS/blob/main/CNN_model_INTO_TF_LITE_model.ipynb\" target=\"_parent\"><img src=\"https://colab.research.google.com/assets/colab-badge.svg\" alt=\"Open In Colab\"/></a>"
      ]
    },
    {
      "source": [
        "\n",
        "# IMPORTANT: RUN THIS CELL IN ORDER TO IMPORT YOUR KAGGLE DATA SOURCES\n",
        "# TO THE CORRECT LOCATION (/kaggle/input) IN YOUR NOTEBOOK,\n",
        "# THEN FEEL FREE TO DELETE THIS CELL.\n",
        "# NOTE: THIS NOTEBOOK ENVIRONMENT DIFFERS FROM KAGGLE'S PYTHON\n",
        "# ENVIRONMENT SO THERE MAY BE MISSING LIBRARIES USED BY YOUR\n",
        "# NOTEBOOK.\n",
        "\n",
        "import os\n",
        "import sys\n",
        "from tempfile import NamedTemporaryFile\n",
        "from urllib.request import urlopen\n",
        "from urllib.parse import unquote, urlparse\n",
        "from urllib.error import HTTPError\n",
        "from zipfile import ZipFile\n",
        "import tarfile\n",
        "import shutil\n",
        "\n",
        "CHUNK_SIZE = 40960\n",
        "DATA_SOURCE_MAPPING = 'tomatoleaf:https%3A%2F%2Fstorage.googleapis.com%2Fkaggle-data-sets%2F619181%2F1105687%2Fbundle%2Farchive.zip%3FX-Goog-Algorithm%3DGOOG4-RSA-SHA256%26X-Goog-Credential%3Dgcp-kaggle-com%2540kaggle-161607.iam.gserviceaccount.com%252F20240222%252Fauto%252Fstorage%252Fgoog4_request%26X-Goog-Date%3D20240222T174947Z%26X-Goog-Expires%3D259200%26X-Goog-SignedHeaders%3Dhost%26X-Goog-Signature%3D052fcdea188103c8f99dc8edb4796524bcb9c2ed000b5cdf092e3203558961581f5f000a2582f7c172ec9f11c5d9f2a53e47545d458b78d854bd1fdfef3144241c79de012ba794a6d9e529cc81a7c49f97331151b7f32e18ee064016ab4bde682d8a88bcc1e4e56b4072a4bf969300bbfa3df65ad6ef593a66f13bb53586e4ffe31876fe10ac3f6d8e8de527c017697ddf3ba7b2277ee34c16857553c96cd941273d3fc6eb71f9f216a84d6d9ffe06cd73ccbc678b56c03fa3e6586df8cfb69efca803f917388182df9999c18dcb70a26573de9b2da350eb87e5d695f2dc3ac6f2fa4526bde070b517e36bfd0fea453275cae93a084cb27f8fc114081d369fde'\n",
        "\n",
        "KAGGLE_INPUT_PATH='/kaggle/input'\n",
        "KAGGLE_WORKING_PATH='/kaggle/working'\n",
        "KAGGLE_SYMLINK='kaggle'\n",
        "\n",
        "!umount /kaggle/input/ 2> /dev/null\n",
        "shutil.rmtree('/kaggle/input', ignore_errors=True)\n",
        "os.makedirs(KAGGLE_INPUT_PATH, 0o777, exist_ok=True)\n",
        "os.makedirs(KAGGLE_WORKING_PATH, 0o777, exist_ok=True)\n",
        "\n",
        "try:\n",
        "  os.symlink(KAGGLE_INPUT_PATH, os.path.join(\"..\", 'input'), target_is_directory=True)\n",
        "except FileExistsError:\n",
        "  pass\n",
        "try:\n",
        "  os.symlink(KAGGLE_WORKING_PATH, os.path.join(\"..\", 'working'), target_is_directory=True)\n",
        "except FileExistsError:\n",
        "  pass\n",
        "\n",
        "for data_source_mapping in DATA_SOURCE_MAPPING.split(','):\n",
        "    directory, download_url_encoded = data_source_mapping.split(':')\n",
        "    download_url = unquote(download_url_encoded)\n",
        "    filename = urlparse(download_url).path\n",
        "    destination_path = os.path.join(KAGGLE_INPUT_PATH, directory)\n",
        "    try:\n",
        "        with urlopen(download_url) as fileres, NamedTemporaryFile() as tfile:\n",
        "            total_length = fileres.headers['content-length']\n",
        "            print(f'Downloading {directory}, {total_length} bytes compressed')\n",
        "            dl = 0\n",
        "            data = fileres.read(CHUNK_SIZE)\n",
        "            while len(data) > 0:\n",
        "                dl += len(data)\n",
        "                tfile.write(data)\n",
        "                done = int(50 * dl / int(total_length))\n",
        "                sys.stdout.write(f\"\\r[{'=' * done}{' ' * (50-done)}] {dl} bytes downloaded\")\n",
        "                sys.stdout.flush()\n",
        "                data = fileres.read(CHUNK_SIZE)\n",
        "            if filename.endswith('.zip'):\n",
        "              with ZipFile(tfile) as zfile:\n",
        "                zfile.extractall(destination_path)\n",
        "            else:\n",
        "              with tarfile.open(tfile.name) as tarfile:\n",
        "                tarfile.extractall(destination_path)\n",
        "            print(f'\\nDownloaded and uncompressed: {directory}')\n",
        "    except HTTPError as e:\n",
        "        print(f'Failed to load (likely expired) {download_url} to path {destination_path}')\n",
        "        continue\n",
        "    except OSError as e:\n",
        "        print(f'Failed to load {download_url} to path {destination_path}')\n",
        "        continue\n",
        "\n",
        "print('Data source import complete.')\n"
      ],
      "metadata": {
        "id": "UBruBxe3-lJS"
      },
      "cell_type": "code",
      "outputs": [],
      "execution_count": null
    },
    {
      "cell_type": "markdown",
      "source": [
        "**Hello Fokers!**\n",
        "\n",
        "In this Notebook Trained and Converted into the CNN Model to Tensorflow Lite Model which can easily implemented in Cloud Platforms for Classification and Detection on raw images\n",
        "\n",
        "A CNN model as been Derived for using the own Architecture and it convert the model using the tensorflow Model Lib"
      ],
      "metadata": {
        "execution": {
          "iopub.status.busy": "2021-08-29T06:30:09.196392Z",
          "iopub.execute_input": "2021-08-29T06:30:09.196858Z",
          "iopub.status.idle": "2021-08-29T06:30:13.590161Z",
          "shell.execute_reply.started": "2021-08-29T06:30:09.196751Z",
          "shell.execute_reply": "2021-08-29T06:30:13.58924Z"
        },
        "id": "nUOXQBap-lJU"
      }
    },
    {
      "cell_type": "code",
      "source": [
        "#import all the requirements\n",
        "import numpy as np\n",
        "import os\n",
        "from tensorflow.keras import models, layers\n",
        "from tensorflow.keras.preprocessing.image import ImageDataGenerator\n",
        "from tensorflow.keras.preprocessing import image\n",
        "from tensorflow.keras.preprocessing.image import img_to_array\n",
        "import tensorflow as tf\n",
        "import matplotlib.pyplot as plt\n",
        "from tensorflow.keras import backend as K"
      ],
      "metadata": {
        "execution": {
          "iopub.status.busy": "2024-02-22T17:39:05.62866Z",
          "iopub.execute_input": "2024-02-22T17:39:05.629125Z",
          "iopub.status.idle": "2024-02-22T17:39:11.4704Z",
          "shell.execute_reply.started": "2024-02-22T17:39:05.629014Z",
          "shell.execute_reply": "2024-02-22T17:39:11.469548Z"
        },
        "trusted": true,
        "id": "EWTjiAbZ-lJV"
      },
      "execution_count": null,
      "outputs": []
    },
    {
      "cell_type": "markdown",
      "source": [
        "**Checking the GPU enable for Training the Model**"
      ],
      "metadata": {
        "id": "w3o5y8zB-lJW"
      }
    },
    {
      "cell_type": "code",
      "source": [
        "#checking the GPU\n",
        "!nvidia-smi"
      ],
      "metadata": {
        "execution": {
          "iopub.status.busy": "2024-02-22T17:39:23.524226Z",
          "iopub.execute_input": "2024-02-22T17:39:23.524883Z",
          "iopub.status.idle": "2024-02-22T17:39:24.622706Z",
          "shell.execute_reply.started": "2024-02-22T17:39:23.524827Z",
          "shell.execute_reply": "2024-02-22T17:39:24.621397Z"
        },
        "trusted": true,
        "id": "Tli2QYYY-lJW",
        "outputId": "0270fdb8-5a6a-4965-c2f1-3ab79bbe52be"
      },
      "execution_count": null,
      "outputs": [
        {
          "name": "stdout",
          "text": "/bin/bash: nvidia-smi: command not found\n",
          "output_type": "stream"
        }
      ]
    },
    {
      "cell_type": "markdown",
      "source": [
        "**HYPERPARAMETERS**"
      ],
      "metadata": {
        "id": "pz5Q02mc-lJX"
      }
    },
    {
      "cell_type": "code",
      "source": [
        "INIT_LR = 1e-3\n",
        "BATCH_SIZE = 16\n",
        "EPOCHS = 100\n",
        "IMAGE_SIZE = 256\n",
        "default_image_size = tuple((IMAGE_SIZE, IMAGE_SIZE))\n",
        "image_size = 0\n",
        "data_dir = \"../input/tomatoleaf/tomato/val\"\n",
        "CHANNELS=3\n",
        "AUTOTUNE = tf.data.AUTOTUNE"
      ],
      "metadata": {
        "execution": {
          "iopub.status.busy": "2022-01-03T09:22:24.043565Z",
          "iopub.execute_input": "2022-01-03T09:22:24.044021Z",
          "iopub.status.idle": "2022-01-03T09:22:24.051773Z",
          "shell.execute_reply.started": "2022-01-03T09:22:24.043957Z",
          "shell.execute_reply": "2022-01-03T09:22:24.050249Z"
        },
        "trusted": true,
        "id": "cqCm3cCX-lJX"
      },
      "execution_count": null,
      "outputs": []
    },
    {
      "cell_type": "markdown",
      "source": [
        "**Spliting the Dataset**\n",
        "\n",
        "\n",
        "In this Function is use for Perform the Spliting the images for training the Nerrtwork\n",
        "\n",
        "\n",
        "\n",
        "Seed Size = 123\n",
        "\n",
        "This will helpfull for this Dataset Spliting easily for 10 classes"
      ],
      "metadata": {
        "id": "gzP7IUBA-lJX"
      }
    },
    {
      "cell_type": "code",
      "source": [
        "#spliting the Dataset\n",
        "def get_dataset_partitions_tf(ds, train_split=0.8, val_split=0.1, test_split=0.1, shuffle=True, shuffle_size=10000):\n",
        "    assert (train_split + test_split + val_split) == 1\n",
        "\n",
        "    ds_size = ds.cardinality().numpy()\n",
        "\n",
        "    if shuffle:\n",
        "        ds = ds.shuffle(shuffle_size, seed=12)\n",
        "\n",
        "    train_size = int(train_split * ds_size)\n",
        "    val_size = int(val_split * ds_size)\n",
        "\n",
        "    train_ds = ds.take(train_size)\n",
        "    val_ds = ds.skip(train_size).take(val_size)\n",
        "    test_ds = ds.skip(train_size).skip(val_size)\n",
        "\n",
        "    return train_ds, val_ds, test_ds"
      ],
      "metadata": {
        "execution": {
          "iopub.status.busy": "2022-01-03T09:22:24.054683Z",
          "iopub.execute_input": "2022-01-03T09:22:24.055184Z",
          "iopub.status.idle": "2022-01-03T09:22:24.064894Z",
          "shell.execute_reply.started": "2022-01-03T09:22:24.055139Z",
          "shell.execute_reply": "2022-01-03T09:22:24.063664Z"
        },
        "trusted": true,
        "id": "i2A9WieG-lJX"
      },
      "execution_count": null,
      "outputs": []
    },
    {
      "cell_type": "code",
      "source": [
        "#dataset spliting into training and testing\n",
        "dataset = tf.keras.preprocessing.image_dataset_from_directory(\n",
        "  data_dir,\n",
        "  seed=123,\n",
        "  image_size=default_image_size,\n",
        "  batch_size=BATCH_SIZE\n",
        ")\n",
        "\n",
        "\n",
        "train_ds, val_ds, test_ds = get_dataset_partitions_tf(dataset)"
      ],
      "metadata": {
        "execution": {
          "iopub.status.busy": "2022-01-03T09:22:24.066692Z",
          "iopub.execute_input": "2022-01-03T09:22:24.067438Z",
          "iopub.status.idle": "2022-01-03T09:22:26.811538Z",
          "shell.execute_reply.started": "2022-01-03T09:22:24.067376Z",
          "shell.execute_reply": "2022-01-03T09:22:26.81041Z"
        },
        "trusted": true,
        "id": "PtCedu6d-lJY"
      },
      "execution_count": null,
      "outputs": []
    },
    {
      "cell_type": "code",
      "source": [
        "#checking the avaiable classes\n",
        "class_names = dataset.class_names\n",
        "n_classes = len(class_names)\n",
        "print(n_classes, class_names)"
      ],
      "metadata": {
        "execution": {
          "iopub.status.busy": "2022-01-03T09:22:26.813083Z",
          "iopub.execute_input": "2022-01-03T09:22:26.8135Z",
          "iopub.status.idle": "2022-01-03T09:22:26.820586Z",
          "shell.execute_reply.started": "2022-01-03T09:22:26.813459Z",
          "shell.execute_reply": "2022-01-03T09:22:26.819212Z"
        },
        "trusted": true,
        "id": "57pc7qSp-lJY"
      },
      "execution_count": null,
      "outputs": []
    },
    {
      "cell_type": "code",
      "source": [
        "#Displaying the sample images from the dataset\n",
        "plt.figure(figsize=(10, 10))\n",
        "for images, labels in train_ds.take(1):\n",
        "  for i in range(9):\n",
        "    ax = plt.subplot(3, 3, i + 1)\n",
        "    plt.imshow(images[i].numpy().astype(\"uint8\"))\n",
        "    plt.title(class_names[labels[i]])\n",
        "    plt.axis(\"off\")"
      ],
      "metadata": {
        "execution": {
          "iopub.status.busy": "2022-01-03T09:22:26.822744Z",
          "iopub.execute_input": "2022-01-03T09:22:26.823668Z",
          "iopub.status.idle": "2022-01-03T09:22:34.966229Z",
          "shell.execute_reply.started": "2022-01-03T09:22:26.823619Z",
          "shell.execute_reply": "2022-01-03T09:22:34.964987Z"
        },
        "trusted": true,
        "id": "ewWWlXne-lJY"
      },
      "execution_count": null,
      "outputs": []
    },
    {
      "cell_type": "code",
      "source": [
        "#checking the batch Size\n",
        "for image_batch, labels_batch in train_ds:\n",
        "  print(image_batch.shape)\n",
        "  print(labels_batch.shape)\n",
        "  break"
      ],
      "metadata": {
        "execution": {
          "iopub.status.busy": "2022-01-03T09:22:34.969475Z",
          "iopub.execute_input": "2022-01-03T09:22:34.969905Z",
          "iopub.status.idle": "2022-01-03T09:22:36.80592Z",
          "shell.execute_reply.started": "2022-01-03T09:22:34.969851Z",
          "shell.execute_reply": "2022-01-03T09:22:36.804604Z"
        },
        "trusted": true,
        "id": "_gzKCPzz-lJY"
      },
      "execution_count": null,
      "outputs": []
    },
    {
      "cell_type": "code",
      "source": [
        "train_ds = train_ds.cache().shuffle(1000).prefetch(buffer_size=AUTOTUNE)\n",
        "val_ds = val_ds.cache().shuffle(1000).prefetch(buffer_size=AUTOTUNE)\n",
        "test_ds = test_ds.cache().shuffle(1000).prefetch(buffer_size=AUTOTUNE)"
      ],
      "metadata": {
        "execution": {
          "iopub.status.busy": "2022-01-03T09:22:36.808739Z",
          "iopub.execute_input": "2022-01-03T09:22:36.809432Z",
          "iopub.status.idle": "2022-01-03T09:22:36.820861Z",
          "shell.execute_reply.started": "2022-01-03T09:22:36.809384Z",
          "shell.execute_reply": "2022-01-03T09:22:36.819737Z"
        },
        "trusted": true,
        "id": "RqCBNR1L-lJZ"
      },
      "execution_count": null,
      "outputs": []
    },
    {
      "cell_type": "markdown",
      "source": [
        "**Bulid the model**"
      ],
      "metadata": {
        "id": "8dDVjOpw-lJZ"
      }
    },
    {
      "cell_type": "code",
      "source": [
        "#Creating a Layer for Resizing and Normalization\n",
        "resize_and_rescale = tf.keras.Sequential([\n",
        "  layers.experimental.preprocessing.Resizing(IMAGE_SIZE, IMAGE_SIZE),\n",
        "  layers.experimental.preprocessing.Rescaling(1./255),\n",
        "])"
      ],
      "metadata": {
        "execution": {
          "iopub.status.busy": "2022-01-03T09:22:36.823608Z",
          "iopub.execute_input": "2022-01-03T09:22:36.824481Z",
          "iopub.status.idle": "2022-01-03T09:22:36.84858Z",
          "shell.execute_reply.started": "2022-01-03T09:22:36.824435Z",
          "shell.execute_reply": "2022-01-03T09:22:36.847416Z"
        },
        "trusted": true,
        "id": "fZOjulFv-lJZ"
      },
      "execution_count": null,
      "outputs": []
    },
    {
      "cell_type": "markdown",
      "source": [
        "**DATA AUGMENTATION**"
      ],
      "metadata": {
        "id": "mYPzmcgB-lJZ"
      }
    },
    {
      "cell_type": "code",
      "source": [
        "#Data Augmentation\n",
        "data_augmentation = tf.keras.Sequential([\n",
        "  layers.experimental.preprocessing.RandomFlip(\"horizontal_and_vertical\"),\n",
        "  layers.experimental.preprocessing.RandomRotation(0.2),\n",
        "])"
      ],
      "metadata": {
        "execution": {
          "iopub.status.busy": "2022-01-03T09:22:36.850332Z",
          "iopub.execute_input": "2022-01-03T09:22:36.850891Z",
          "iopub.status.idle": "2022-01-03T09:22:36.872094Z",
          "shell.execute_reply.started": "2022-01-03T09:22:36.850846Z",
          "shell.execute_reply": "2022-01-03T09:22:36.870854Z"
        },
        "trusted": true,
        "id": "aXaFFSfC-lJZ"
      },
      "execution_count": null,
      "outputs": []
    },
    {
      "cell_type": "code",
      "source": [
        "input_shape = (IMAGE_SIZE, IMAGE_SIZE, CHANNELS)\n",
        "batch_input_shape = (BATCH_SIZE, IMAGE_SIZE, IMAGE_SIZE, CHANNELS)\n",
        "chanDim = -1\n",
        "if K.image_data_format() == \"channels_first\":\n",
        "    input_shape = (CHANNELS, IMAGE_SIZE, IMAGE_SIZE)\n",
        "    batch_input_shape = (BATCH_SIZE, CHANNELS, IMAGE_SIZE, IMAGE_SIZE)\n",
        "    chanDim = 1"
      ],
      "metadata": {
        "execution": {
          "iopub.status.busy": "2022-01-03T09:22:36.873775Z",
          "iopub.execute_input": "2022-01-03T09:22:36.874265Z",
          "iopub.status.idle": "2022-01-03T09:22:36.882363Z",
          "shell.execute_reply.started": "2022-01-03T09:22:36.874219Z",
          "shell.execute_reply": "2022-01-03T09:22:36.881089Z"
        },
        "trusted": true,
        "id": "LhYJfUyt-lJZ"
      },
      "execution_count": null,
      "outputs": []
    },
    {
      "cell_type": "markdown",
      "source": [
        "**Model Architecture**"
      ],
      "metadata": {
        "id": "9AAFSI1E-lJa"
      }
    },
    {
      "cell_type": "code",
      "source": [
        "#CNN with softmax activation layer in last output layer\n",
        "model = models.Sequential([\n",
        "    resize_and_rescale,\n",
        "    data_augmentation,\n",
        "    layers.Conv2D(32, kernel_size = (3,3), activation='relu', input_shape=input_shape),\n",
        "    layers.MaxPooling2D((2, 2)),\n",
        "    layers.Conv2D(64,  kernel_size = (3,3), activation='relu'),\n",
        "    layers.MaxPooling2D((2, 2)),\n",
        "    layers.Conv2D(64,  kernel_size = (3,3), activation='relu'),\n",
        "    layers.MaxPooling2D((2, 2)),\n",
        "    layers.Conv2D(64, (3, 3), activation='relu'),\n",
        "    layers.MaxPooling2D((2, 2)),\n",
        "    layers.Conv2D(64, (3, 3), activation='relu'),\n",
        "    layers.MaxPooling2D((2, 2)),\n",
        "    layers.Conv2D(64, (3, 3), activation='relu'),\n",
        "    layers.MaxPooling2D((2, 2)),\n",
        "    layers.Flatten(),\n",
        "    layers.Dense(64, activation='relu'),\n",
        "    layers.Dense(n_classes, activation='softmax'),\n",
        "])\n",
        "\n",
        "model.build(input_shape=batch_input_shape)"
      ],
      "metadata": {
        "execution": {
          "iopub.status.busy": "2022-01-03T09:22:36.884283Z",
          "iopub.execute_input": "2022-01-03T09:22:36.885201Z",
          "iopub.status.idle": "2022-01-03T09:22:37.421147Z",
          "shell.execute_reply.started": "2022-01-03T09:22:36.885153Z",
          "shell.execute_reply": "2022-01-03T09:22:37.41999Z"
        },
        "trusted": true,
        "id": "eV16Eirt-lJa"
      },
      "execution_count": null,
      "outputs": []
    },
    {
      "cell_type": "code",
      "source": [
        "model.summary()"
      ],
      "metadata": {
        "execution": {
          "iopub.status.busy": "2022-01-03T09:22:37.422872Z",
          "iopub.execute_input": "2022-01-03T09:22:37.423366Z",
          "iopub.status.idle": "2022-01-03T09:22:37.444081Z",
          "shell.execute_reply.started": "2022-01-03T09:22:37.423301Z",
          "shell.execute_reply": "2022-01-03T09:22:37.443012Z"
        },
        "trusted": true,
        "id": "iNqbm2hH-lJa"
      },
      "execution_count": null,
      "outputs": []
    },
    {
      "cell_type": "code",
      "source": [
        "#Compiling the Model\n",
        "model.compile(\n",
        "    optimizer='adam',\n",
        "    loss=tf.keras.losses.SparseCategoricalCrossentropy(from_logits=False),\n",
        "    metrics=['accuracy']\n",
        ")"
      ],
      "metadata": {
        "execution": {
          "iopub.status.busy": "2022-01-03T09:22:37.445509Z",
          "iopub.execute_input": "2022-01-03T09:22:37.445958Z",
          "iopub.status.idle": "2022-01-03T09:22:37.465729Z",
          "shell.execute_reply.started": "2022-01-03T09:22:37.445913Z",
          "shell.execute_reply": "2022-01-03T09:22:37.464409Z"
        },
        "trusted": true,
        "id": "aYsXuQdL-lJa"
      },
      "execution_count": null,
      "outputs": []
    },
    {
      "cell_type": "code",
      "source": [
        "#Trainig the network\n",
        "history = model.fit(\n",
        "    train_ds,\n",
        "    batch_size=BATCH_SIZE,\n",
        "    validation_data=val_ds,\n",
        "    verbose=1,\n",
        "    epochs=EPOCHS,\n",
        ")"
      ],
      "metadata": {
        "execution": {
          "iopub.status.busy": "2022-01-03T09:22:37.468272Z",
          "iopub.execute_input": "2022-01-03T09:22:37.468897Z",
          "iopub.status.idle": "2022-01-03T09:25:30.592814Z",
          "shell.execute_reply.started": "2022-01-03T09:22:37.468851Z",
          "shell.execute_reply": "2022-01-03T09:25:30.591429Z"
        },
        "trusted": true,
        "id": "L4yrsqaf-lJa"
      },
      "execution_count": null,
      "outputs": []
    },
    {
      "cell_type": "code",
      "source": [
        "#testing the CNN model\n",
        "print(\"[INFO] Calculating model accuracy\")\n",
        "scores = model.evaluate(test_ds)\n",
        "print(f\"Test Accuracy: {round(scores[1],4)*100}%\")"
      ],
      "metadata": {
        "execution": {
          "iopub.status.busy": "2022-01-03T09:25:30.595305Z",
          "iopub.execute_input": "2022-01-03T09:25:30.595913Z",
          "iopub.status.idle": "2022-01-03T09:25:32.664225Z",
          "shell.execute_reply.started": "2022-01-03T09:25:30.59586Z",
          "shell.execute_reply": "2022-01-03T09:25:32.663071Z"
        },
        "trusted": true,
        "id": "OuUYQE3c-lJa"
      },
      "execution_count": null,
      "outputs": []
    },
    {
      "cell_type": "markdown",
      "source": [
        "**Plotting the accuracy Graph**"
      ],
      "metadata": {
        "id": "57SiMaA9-lJa"
      }
    },
    {
      "cell_type": "code",
      "source": [
        "acc = history.history['accuracy']\n",
        "val_acc = history.history['val_accuracy']\n",
        "\n",
        "loss = history.history['loss']\n",
        "val_loss = history.history['val_loss']\n",
        "\n",
        "epochs_range = range(EPOCHS)\n",
        "\n",
        "plt.figure(figsize=(8, 8))\n",
        "plt.subplot(1, 2, 1)\n",
        "plt.plot(epochs_range, acc, label='Training Accuracy')\n",
        "plt.plot(epochs_range, val_acc, label='Validation Accuracy')\n",
        "plt.legend(loc='lower right')\n",
        "plt.title('Training and Validation Accuracy')\n",
        "\n",
        "plt.subplot(1, 2, 2)\n",
        "plt.plot(epochs_range, loss, label='Training Loss')\n",
        "plt.plot(epochs_range, val_loss, label='Validation Loss')\n",
        "plt.legend(loc='upper right')\n",
        "plt.title('Training and Validation Loss')\n",
        "plt.show()"
      ],
      "metadata": {
        "execution": {
          "iopub.status.busy": "2022-01-03T09:25:32.665898Z",
          "iopub.execute_input": "2022-01-03T09:25:32.666307Z",
          "iopub.status.idle": "2022-01-03T09:25:33.009893Z",
          "shell.execute_reply.started": "2022-01-03T09:25:32.666256Z",
          "shell.execute_reply": "2022-01-03T09:25:33.008685Z"
        },
        "trusted": true,
        "id": "1xdzqTl9-lJa"
      },
      "execution_count": null,
      "outputs": []
    },
    {
      "cell_type": "code",
      "source": [
        "import os\n",
        "model.save(\"CNN.h5\")"
      ],
      "metadata": {
        "execution": {
          "iopub.status.busy": "2022-01-03T09:25:33.011475Z",
          "iopub.execute_input": "2022-01-03T09:25:33.012078Z",
          "iopub.status.idle": "2022-01-03T09:25:33.082086Z",
          "shell.execute_reply.started": "2022-01-03T09:25:33.012033Z",
          "shell.execute_reply": "2022-01-03T09:25:33.081021Z"
        },
        "trusted": true,
        "id": "yDLqY_K--lJa"
      },
      "execution_count": null,
      "outputs": []
    },
    {
      "cell_type": "code",
      "source": [
        "def predict(model, img):\n",
        "    img_array = tf.keras.preprocessing.image.img_to_array(images[i].numpy())\n",
        "    img_array = tf.expand_dims(img_array, 0) # Create a batch\n",
        "\n",
        "    predictions = model.predict(img_array)\n",
        "\n",
        "    predicted_class = class_names[np.argmax(predictions[0])]\n",
        "    confidence = round(100 * (np.max(predictions[0])), 2)\n",
        "    return predicted_class, confidence\n"
      ],
      "metadata": {
        "execution": {
          "iopub.status.busy": "2022-01-03T09:25:33.083661Z",
          "iopub.execute_input": "2022-01-03T09:25:33.084103Z",
          "iopub.status.idle": "2022-01-03T09:25:33.091743Z",
          "shell.execute_reply.started": "2022-01-03T09:25:33.08406Z",
          "shell.execute_reply": "2022-01-03T09:25:33.090465Z"
        },
        "trusted": true,
        "id": "9WnxU3Vn-lJb"
      },
      "execution_count": null,
      "outputs": []
    },
    {
      "cell_type": "code",
      "source": [
        "\n",
        "import numpy as np\n",
        "for images_batch, labels_batch in test_ds.take(1):\n",
        "\n",
        "    first_image = images_batch[0].numpy().astype('uint8')\n",
        "    first_label = labels_batch[0].numpy()\n",
        "\n",
        "    print(\"first image to predict\")\n",
        "    plt.imshow(first_image)\n",
        "    print(\"actual label:\",class_names[first_label])\n",
        "\n",
        "    batch_prediction = model.predict(images_batch)\n",
        "    print(\"predicted label:\",class_names[np.argmax(batch_prediction[0])])\n",
        "\n"
      ],
      "metadata": {
        "execution": {
          "iopub.status.busy": "2022-01-03T09:25:33.093524Z",
          "iopub.execute_input": "2022-01-03T09:25:33.094256Z",
          "iopub.status.idle": "2022-01-03T09:25:33.530595Z",
          "shell.execute_reply.started": "2022-01-03T09:25:33.094211Z",
          "shell.execute_reply": "2022-01-03T09:25:33.529334Z"
        },
        "trusted": true,
        "id": "wh7y7-dq-lJb"
      },
      "execution_count": null,
      "outputs": []
    },
    {
      "cell_type": "code",
      "source": [
        "plt.figure(figsize=(15, 15))\n",
        "for images, labels in test_ds.take(1):\n",
        "    for i in range(9):\n",
        "        ax = plt.subplot(3, 3, i + 1)\n",
        "        plt.imshow(images[i].numpy().astype(\"uint8\"))\n",
        "        predicted_class, confidence = predict(model, images[i].numpy())\n",
        "\n",
        "        actual_class = class_names[labels[i]]\n",
        "        plt.title(f\"Actual: {actual_class},\\n Predicted: {predicted_class}.\\n Confidence: {confidence}%\")\n",
        "        plt.axis(\"off\")"
      ],
      "metadata": {
        "execution": {
          "iopub.status.busy": "2022-01-03T09:25:33.532391Z",
          "iopub.execute_input": "2022-01-03T09:25:33.53319Z",
          "iopub.status.idle": "2022-01-03T09:25:35.650953Z",
          "shell.execute_reply.started": "2022-01-03T09:25:33.533142Z",
          "shell.execute_reply": "2022-01-03T09:25:35.648448Z"
        },
        "trusted": true,
        "id": "Rdk-a0Ah-lJb"
      },
      "execution_count": null,
      "outputs": []
    },
    {
      "cell_type": "code",
      "source": [
        "#Create a Quantization Aware Model\n",
        "!pip install --upgrade tensorflow-model-optimization\n",
        "import tensorflow_model_optimization as tfmot"
      ],
      "metadata": {
        "execution": {
          "iopub.status.busy": "2022-01-03T09:25:35.655897Z",
          "iopub.execute_input": "2022-01-03T09:25:35.656566Z",
          "iopub.status.idle": "2022-01-03T09:25:46.283878Z",
          "shell.execute_reply.started": "2022-01-03T09:25:35.656513Z",
          "shell.execute_reply": "2022-01-03T09:25:46.282462Z"
        },
        "trusted": true,
        "id": "exU0LjOw-lJb"
      },
      "execution_count": null,
      "outputs": []
    },
    {
      "cell_type": "code",
      "source": [
        "#Quantize only the Dense, MaxPool2D, Conv2D Layers\n",
        "def apply_quantization(layer):\n",
        "    if (\n",
        "        isinstance(layer, layers.Dense)\n",
        "        or isinstance(layer, layers.MaxPool2D)\n",
        "        or isinstance(layer, layers.Conv2D)\n",
        "    ):\n",
        "        return tfmot.quantization.keras.quantize_annotate_layer(layer)\n",
        "    return layer"
      ],
      "metadata": {
        "execution": {
          "iopub.status.busy": "2022-01-03T09:25:46.286475Z",
          "iopub.execute_input": "2022-01-03T09:25:46.286985Z",
          "iopub.status.idle": "2022-01-03T09:25:46.294248Z",
          "shell.execute_reply.started": "2022-01-03T09:25:46.286928Z",
          "shell.execute_reply": "2022-01-03T09:25:46.292882Z"
        },
        "trusted": true,
        "id": "JgOB2KiD-lJb"
      },
      "execution_count": null,
      "outputs": []
    },
    {
      "cell_type": "code",
      "source": [
        "annotated_model = tf.keras.models.clone_model(\n",
        "    model,\n",
        "    clone_function=apply_quantization,\n",
        ")\n",
        "\n",
        "quant_aware_model = tfmot.quantization.keras.quantize_apply(annotated_model)\n",
        "quant_aware_model.summary()"
      ],
      "metadata": {
        "execution": {
          "iopub.status.busy": "2022-01-03T09:25:46.296259Z",
          "iopub.execute_input": "2022-01-03T09:25:46.29675Z",
          "iopub.status.idle": "2022-01-03T09:25:49.436123Z",
          "shell.execute_reply.started": "2022-01-03T09:25:46.296705Z",
          "shell.execute_reply": "2022-01-03T09:25:49.435025Z"
        },
        "trusted": true,
        "id": "WMS9zaSz-lJb"
      },
      "execution_count": null,
      "outputs": []
    },
    {
      "cell_type": "code",
      "source": [
        "#Finr Tuning the model\n",
        "\n",
        "quant_aware_model.compile(\n",
        "    optimizer='adam',\n",
        "    loss=tf.keras.losses.SparseCategoricalCrossentropy(from_logits=False),\n",
        "    metrics=['accuracy']\n",
        ")\n",
        "\n"
      ],
      "metadata": {
        "execution": {
          "iopub.status.busy": "2022-01-03T09:25:49.438529Z",
          "iopub.execute_input": "2022-01-03T09:25:49.43903Z",
          "iopub.status.idle": "2022-01-03T09:25:49.454662Z",
          "shell.execute_reply.started": "2022-01-03T09:25:49.438984Z",
          "shell.execute_reply": "2022-01-03T09:25:49.453372Z"
        },
        "trusted": true,
        "id": "aIc9-YAR-lJb"
      },
      "execution_count": null,
      "outputs": []
    },
    {
      "cell_type": "code",
      "source": [
        "q_history = quant_aware_model.fit(train_ds,\n",
        "    batch_size=BATCH_SIZE,\n",
        "    validation_data=val_ds,\n",
        "    verbose=1,\n",
        "    epochs=25,\n",
        ")"
      ],
      "metadata": {
        "execution": {
          "iopub.status.busy": "2022-01-03T09:25:49.456722Z",
          "iopub.execute_input": "2022-01-03T09:25:49.457586Z",
          "iopub.status.idle": "2022-01-03T09:26:41.658368Z",
          "shell.execute_reply.started": "2022-01-03T09:25:49.457513Z",
          "shell.execute_reply": "2022-01-03T09:26:41.657367Z"
        },
        "trusted": true,
        "id": "_ctEtVFQ-lJc"
      },
      "execution_count": null,
      "outputs": []
    },
    {
      "cell_type": "code",
      "source": [
        "#Testing the accuracy after Fine tunning\n",
        "print(\"[INFO] Calculating Quant Aware model accuracy\")\n",
        "scores = quant_aware_model.evaluate(test_ds)\n",
        "print(f\"Test Accuracy: {round(scores[1],4)*100}%\")"
      ],
      "metadata": {
        "execution": {
          "iopub.status.busy": "2022-01-03T09:26:41.660878Z",
          "iopub.execute_input": "2022-01-03T09:26:41.661646Z",
          "iopub.status.idle": "2022-01-03T09:26:41.78965Z",
          "shell.execute_reply.started": "2022-01-03T09:26:41.661598Z",
          "shell.execute_reply": "2022-01-03T09:26:41.788485Z"
        },
        "trusted": true,
        "id": "ky2WvCsd-lJc"
      },
      "execution_count": null,
      "outputs": []
    },
    {
      "cell_type": "code",
      "source": [
        "#saving the fine tunning modeol\n",
        "import os\n",
        "model.save(\"FineTuning.h5\")"
      ],
      "metadata": {
        "execution": {
          "iopub.status.busy": "2022-01-03T09:26:41.791407Z",
          "iopub.execute_input": "2022-01-03T09:26:41.792091Z",
          "iopub.status.idle": "2022-01-03T09:26:41.85806Z",
          "shell.execute_reply.started": "2022-01-03T09:26:41.792043Z",
          "shell.execute_reply": "2022-01-03T09:26:41.856843Z"
        },
        "trusted": true,
        "id": "jIm3tMA4-lJc"
      },
      "execution_count": null,
      "outputs": []
    },
    {
      "cell_type": "markdown",
      "source": [
        "**Convert Quanitzation Aware Model to TF Lite Model**"
      ],
      "metadata": {
        "id": "QuOQCNFL-lJc"
      }
    },
    {
      "cell_type": "code",
      "source": [
        "converter = tf.lite.TFLiteConverter.from_keras_model(quant_aware_model)\n",
        "converter.optimizations = [tf.lite.Optimize.DEFAULT]\n",
        "\n",
        "quantized_tflite_model = converter.convert()"
      ],
      "metadata": {
        "execution": {
          "iopub.status.busy": "2022-01-03T09:26:41.859954Z",
          "iopub.execute_input": "2022-01-03T09:26:41.860528Z",
          "iopub.status.idle": "2022-01-03T09:26:50.017907Z",
          "shell.execute_reply.started": "2022-01-03T09:26:41.86048Z",
          "shell.execute_reply": "2022-01-03T09:26:50.016704Z"
        },
        "trusted": true,
        "id": "1GD0_RTS-lJk"
      },
      "execution_count": null,
      "outputs": []
    },
    {
      "cell_type": "code",
      "source": [
        "#Testing the Tfmodel\n",
        "\n",
        "\n",
        "# I tried to convert FINETUNE WEIGHTS into TFLITE  model its take about 3 hour to runned but still running in kaggle.If you want to convert the model.Please move to Google colab Platform\n",
        "#No chances in the code to convert tflite model\n",
        "\n",
        "def evaluate_tflite_model (dataset, interpreter):\n",
        "    input_index = interpreter.get_input_details()[0][\"index\"]\n",
        "    output_index = interpreter.get_output_details()[0][\"index\"]\n",
        "\n",
        "    prediction_digits = []\n",
        "    test_labels = []\n",
        "    for image, label in dataset.unbatch().take(dataset.unbatch().cardinality()):\n",
        "\n",
        "        test_image = np.expand_dims(image, axis=0).astype(np.float32)\n",
        "        interpreter.set_tensor(input_index, test_image)\n",
        "        interpreter.invoke()\n",
        "\n",
        "        output = interpreter.tensor(output_index)\n",
        "        digit = np.argmax(output()[0])\n",
        "        prediction_digits.append(digit)\n",
        "        test_labels.append(label)\n",
        "\n",
        "    prediction_digits = np.array(prediction_digits)\n",
        "    accuracy = (prediction_digits == test_labels).mean()\n",
        "    return accuracy\n",
        "\n",
        "interpreter = tf.lite.Interpreter(model_content=quantized_tflite_model)\n",
        "interpreter.allocate_tensors()\n",
        "\n",
        "test_accuracy = evaluate_tflite_model(dataset, interpreter)\n",
        "\n",
        "print('Quant TFLite test_accuracy:', test_accuracy)"
      ],
      "metadata": {
        "execution": {
          "iopub.status.busy": "2022-01-03T09:26:50.019724Z",
          "iopub.execute_input": "2022-01-03T09:26:50.020236Z"
        },
        "trusted": true,
        "id": "mjzlmrvw-lJk"
      },
      "execution_count": null,
      "outputs": []
    },
    {
      "cell_type": "code",
      "source": [
        "import os\n",
        "model.save(\"tflite_model.pb\")"
      ],
      "metadata": {
        "trusted": true,
        "id": "DlkT9X26-lJk"
      },
      "execution_count": null,
      "outputs": []
    },
    {
      "cell_type": "code",
      "source": [
        "#testing the tflite model\n",
        "input_index = interpreter.get_input_details()[0][\"index\"]\n",
        "output_index = interpreter.get_output_details()[0][\"index\"]\n",
        "\n",
        "plt.figure(figsize=(15, 15))\n",
        "for images, labels in test_ds.take(1):\n",
        "    for i in range(9):\n",
        "        ax = plt.subplot(3, 3, i + 1)\n",
        "        plt.imshow(images[i].numpy().astype(\"uint8\"))\n",
        "\n",
        "        actual_class = class_names[labels[i]]\n",
        "\n",
        "        test_image = np.expand_dims(images[i], axis=0).astype(np.float32)\n",
        "        interpreter.set_tensor(input_index, test_image)\n",
        "        interpreter.invoke()\n",
        "        output = interpreter.tensor(output_index)\n",
        "        digit = np.argmax(output()[0])\n",
        "\n",
        "        predicted_class = class_names[digit]\n",
        "        confidence = np.max(output()[0])*100\n",
        "\n",
        "        plt.title(f\"Actual: {actual_class},\\n Predicted: {predicted_class}.\\n Confidence: {confidence}%\")\n",
        "        plt.axis(\"off\")\n",
        "\n"
      ],
      "metadata": {
        "trusted": true,
        "id": "8iUg7pbq-lJk"
      },
      "execution_count": null,
      "outputs": []
    }
  ]
}